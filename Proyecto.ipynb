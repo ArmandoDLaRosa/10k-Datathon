{
 "cells": [
  {
   "cell_type": "markdown",
   "source": [
    "# Librerias"
   ],
   "metadata": {}
  },
  {
   "cell_type": "code",
   "execution_count": null,
   "source": [],
   "outputs": [],
   "metadata": {}
  },
  {
   "cell_type": "markdown",
   "source": [
    "# Etapa 1: Exploración"
   ],
   "metadata": {}
  },
  {
   "cell_type": "markdown",
   "source": [
    "# @Armando\r\n",
    "## Descripción de datos\r\n",
    "¿Por qué seleccionamos estos datos?, ¿Qué representan nuestras variables? (Incluir un diccionario, variable: Significado)\r\n",
    "\r\n",
    "## Objetivo\r\n",
    "Que queremos saber de los datos\r\n",
    "\r\n",
    "## Selección\r\n",
    "¿Están limpios los datos?, ¿cuáles son relevantes?, ¿Cómo preparamos los datos?\r\n",
    "\r\n",
    "## Exploración\r\n",
    "Grafica variables vs otras. Dos graficas por integrante de equipo junto una explicación sobre las observaciones.\r\n",
    "\r\n",
    "Usa Watson, Tableau, Power BI para explorar relaciones entre datos y reporta lo que encontraste."
   ],
   "metadata": {}
  },
  {
   "cell_type": "markdown",
   "source": [
    "# Etapa 2: Análisis estadístico\r\n",
    "# @Jesus, Adrian"
   ],
   "metadata": {}
  },
  {
   "cell_type": "markdown",
   "source": [
    "* Histograma\r\n",
    "* Media\r\n",
    "* Varianza\r\n",
    "* Desviación estándar\r\n",
    "* Simetría\r\n",
    "* Curtosis \r\n",
    "\r\n",
    "Interpretación de los estadísticos descriptivos sobre dichas variables, ofrece una explicación sobre la varianza, media, desviación estandar.\r\n",
    "Estas son hipotesis sobre los datos. Recuerda redactar esto precisamente como hipotesis, y basarte en los números que obtuviste en el análisis. Por ultimo, para cada una de las variables incluye también tu inferencia sobre que distribución de probabilidad y explica el comportamiento de la variable.\r\n",
    "\r\n",
    "Basandonos en la forma del histograma, pesamos que esta variable podría tener una distribución nomal de la información y se encuentra cesgado hacia la derecha por lo que podriamos asumir que la variable tiene una mayor cantidad de información en este rango de numeros."
   ],
   "metadata": {}
  },
  {
   "cell_type": "markdown",
   "source": [
    "# Etapa 3: Modelación"
   ],
   "metadata": {}
  },
  {
   "cell_type": "markdown",
   "source": [
    "## Modela los datos con alguna tecnica.\r\n",
    "* Teoría de Colas\r\n",
    "* Leyes operativas\r\n",
    "* K-Medias\r\n",
    "* Redes neuronales\r\n",
    "* Redes neuronales profundas\r\n",
    "* Redes bayesianas\r\n",
    "* Árboles de decisión \r\n",
    "* Bosques Aleatorios\r\n",
    "* PCAs\r\n",
    "* Algoritmos genéticos\r\n",
    "* SVM\r\n",
    "* Regresión\r\n",
    "\r\n",
    "### Se utilizaran\r\n",
    "- PCAs  @Jesus\r\n",
    "- K-Medias @Angel\r\n",
    "- Árboles de decisión @Armando, Shap, Pipeline\r\n",
    "- Regresión logistica binaria @Adrian\r\n",
    "- (Quiza Redes Neuronales) @ Todos\r\n",
    "\r\n",
    "Reporta la tecnica, el modelo, sus ajustes y tus resultados.\r\n",
    "\r\n",
    "Pro-tip: usa dos o más métodos para agrupar o predecir y comparalos para un mejor análisis."
   ],
   "metadata": {}
  },
  {
   "cell_type": "markdown",
   "source": [
    "# Etapa 4: Conclusiones"
   ],
   "metadata": {}
  },
  {
   "cell_type": "markdown",
   "source": [
    "Presenta una lista de insights relevantes de acuerdo al objetivo (problema) que declaraste al principio de este documento, fundamentada en las observaciones, modelado y resultados de la simulación.\r\n",
    "Un insight es encontrar una relación entre los datos que no es obvia, que puede ayudar al cliente a resolver problemas o a mejorar algun aspecto de su negocio (moneratio, inventario, producción…etc.)."
   ],
   "metadata": {}
  }
 ],
 "metadata": {
  "orig_nbformat": 4,
  "language_info": {
   "name": "python"
  }
 },
 "nbformat": 4,
 "nbformat_minor": 2
}