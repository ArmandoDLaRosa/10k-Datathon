{
 "cells": [
  {
   "cell_type": "markdown",
   "metadata": {},
   "source": [
    "# Librerias"
   ]
  },
  {
   "cell_type": "code",
   "execution_count": 31,
   "metadata": {},
   "outputs": [],
   "source": [
    "import pymssql        # Conexión a Azure para los datos\n",
    "import pandas as pd\n",
    "from pandas_profiling import ProfileReport\n",
    "from pandasql import sqldf "
   ]
  },
  {
   "cell_type": "markdown",
   "metadata": {},
   "source": [
    "# Datos"
   ]
  },
  {
   "cell_type": "code",
   "execution_count": 28,
   "metadata": {},
   "outputs": [],
   "source": [
    "conn = pymssql.connect(\n",
    "     server=\"10khub-server.database.windows.net\",\n",
    "     port=\"1433\",\n",
    "     user=\"dbadmin\",\n",
    "     password=\"P5<`>Qqexw#RS8e[\",\n",
    "     database=\"hubDB\")\n",
    "\n",
    "strokeDf = pd.read_sql(\"SELECT * from datahub\", conn)\n",
    "\n",
    "conn.close()"
   ]
  },
  {
   "cell_type": "markdown",
   "metadata": {},
   "source": [
    "# Etapa 1: Exploración"
   ]
  },
  {
   "cell_type": "markdown",
   "metadata": {},
   "source": [
    "## Descripción de datos\n",
    "¿Por qué seleccionamos estos datos?, ¿Qué representan nuestras variables? (Incluir un diccionario, variable: Significado)"
   ]
  },
  {
   "cell_type": "code",
   "execution_count": 9,
   "metadata": {},
   "outputs": [
    {
     "data": {
      "text/html": [
       "<div>\n",
       "<style scoped>\n",
       "    .dataframe tbody tr th:only-of-type {\n",
       "        vertical-align: middle;\n",
       "    }\n",
       "\n",
       "    .dataframe tbody tr th {\n",
       "        vertical-align: top;\n",
       "    }\n",
       "\n",
       "    .dataframe thead th {\n",
       "        text-align: right;\n",
       "    }\n",
       "</style>\n",
       "<table border=\"1\" class=\"dataframe\">\n",
       "  <thead>\n",
       "    <tr style=\"text-align: right;\">\n",
       "      <th></th>\n",
       "      <th>id</th>\n",
       "      <th>gender</th>\n",
       "      <th>age</th>\n",
       "      <th>hypertension</th>\n",
       "      <th>heart_disease</th>\n",
       "      <th>ever_married</th>\n",
       "      <th>work_type</th>\n",
       "      <th>Residence_type</th>\n",
       "      <th>avg_glucose_level</th>\n",
       "      <th>bmi</th>\n",
       "      <th>smoking_status</th>\n",
       "      <th>stroke</th>\n",
       "    </tr>\n",
       "  </thead>\n",
       "  <tbody>\n",
       "    <tr>\n",
       "      <th>0</th>\n",
       "      <td>9046</td>\n",
       "      <td>Male</td>\n",
       "      <td>67</td>\n",
       "      <td>0</td>\n",
       "      <td>1</td>\n",
       "      <td>Yes</td>\n",
       "      <td>Private</td>\n",
       "      <td>Urban</td>\n",
       "      <td>228.690002</td>\n",
       "      <td>36.6</td>\n",
       "      <td>formerly smoked</td>\n",
       "      <td>1</td>\n",
       "    </tr>\n",
       "    <tr>\n",
       "      <th>1</th>\n",
       "      <td>51676</td>\n",
       "      <td>Female</td>\n",
       "      <td>61</td>\n",
       "      <td>0</td>\n",
       "      <td>0</td>\n",
       "      <td>Yes</td>\n",
       "      <td>Self-employed</td>\n",
       "      <td>Rural</td>\n",
       "      <td>202.210007</td>\n",
       "      <td>N/A</td>\n",
       "      <td>never smoked</td>\n",
       "      <td>1</td>\n",
       "    </tr>\n",
       "    <tr>\n",
       "      <th>2</th>\n",
       "      <td>31112</td>\n",
       "      <td>Male</td>\n",
       "      <td>80</td>\n",
       "      <td>0</td>\n",
       "      <td>1</td>\n",
       "      <td>Yes</td>\n",
       "      <td>Private</td>\n",
       "      <td>Rural</td>\n",
       "      <td>105.919998</td>\n",
       "      <td>32.5</td>\n",
       "      <td>never smoked</td>\n",
       "      <td>1</td>\n",
       "    </tr>\n",
       "    <tr>\n",
       "      <th>3</th>\n",
       "      <td>60182</td>\n",
       "      <td>Female</td>\n",
       "      <td>49</td>\n",
       "      <td>0</td>\n",
       "      <td>0</td>\n",
       "      <td>Yes</td>\n",
       "      <td>Private</td>\n",
       "      <td>Urban</td>\n",
       "      <td>171.229996</td>\n",
       "      <td>34.4</td>\n",
       "      <td>smokes</td>\n",
       "      <td>1</td>\n",
       "    </tr>\n",
       "    <tr>\n",
       "      <th>4</th>\n",
       "      <td>1665</td>\n",
       "      <td>Female</td>\n",
       "      <td>79</td>\n",
       "      <td>1</td>\n",
       "      <td>0</td>\n",
       "      <td>Yes</td>\n",
       "      <td>Self-employed</td>\n",
       "      <td>Rural</td>\n",
       "      <td>174.119995</td>\n",
       "      <td>24</td>\n",
       "      <td>never smoked</td>\n",
       "      <td>1</td>\n",
       "    </tr>\n",
       "  </tbody>\n",
       "</table>\n",
       "</div>"
      ],
      "text/plain": [
       "      id  gender  age  hypertension  heart_disease ever_married  \\\n",
       "0   9046    Male   67             0              1          Yes   \n",
       "1  51676  Female   61             0              0          Yes   \n",
       "2  31112    Male   80             0              1          Yes   \n",
       "3  60182  Female   49             0              0          Yes   \n",
       "4   1665  Female   79             1              0          Yes   \n",
       "\n",
       "       work_type Residence_type  avg_glucose_level   bmi   smoking_status  \\\n",
       "0        Private          Urban         228.690002  36.6  formerly smoked   \n",
       "1  Self-employed          Rural         202.210007   N/A     never smoked   \n",
       "2        Private          Rural         105.919998  32.5     never smoked   \n",
       "3        Private          Urban         171.229996  34.4           smokes   \n",
       "4  Self-employed          Rural         174.119995    24     never smoked   \n",
       "\n",
       "   stroke  \n",
       "0       1  \n",
       "1       1  \n",
       "2       1  \n",
       "3       1  \n",
       "4       1  "
      ]
     },
     "execution_count": 9,
     "metadata": {},
     "output_type": "execute_result"
    }
   ],
   "source": [
    "strokeDf.head()"
   ]
  },
  {
   "cell_type": "markdown",
   "metadata": {},
   "source": [
    "Escogimos estos datos primero por su aparente limpieza, segundo porque 800, 000 personas al año tienen un accidente cerebrovasculares y más de 140, 000  mueren y de los que sí sobreviven quedan con discapacidades. De acuerdo con cdc.gov, los accidentes son prevenibles. Lo que hizo que nos interesara el dataset para poner nuestro granito de arena en la prevención al decir si alguien puede o no tener un ataque cardiáco.\n",
    "\n",
    "[Data dada por datathon - Click Aquí](https://docs.google.com/spreadsheets/d/1tjx0q4n3NANh04rfEtl0phkvDOscV1I51EcvZ9-cIG0/edit?usp=sharing)\n",
    "\n",
    "[Dataset Explicado - Click Aquí](https://www.kaggle.com/fedesoriano/stroke-prediction-dataset)\n",
    "\n",
    "\n",
    "CDCespanol. (2017, September 6). Prevención de muertes por accidentes cerebrovasculares. Centers for Disease Control and Prevention. https://www.cdc.gov/spanish/signosvitales/accidentes-cerebrovasculares/index.html"
   ]
  },
  {
   "cell_type": "code",
   "execution_count": 11,
   "metadata": {},
   "outputs": [
    {
     "name": "stdout",
     "output_type": "stream",
     "text": [
      "<class 'pandas.core.frame.DataFrame'>\n",
      "RangeIndex: 5110 entries, 0 to 5109\n",
      "Data columns (total 12 columns):\n",
      " #   Column             Non-Null Count  Dtype  \n",
      "---  ------             --------------  -----  \n",
      " 0   id                 5110 non-null   int64  \n",
      " 1   gender             5110 non-null   object \n",
      " 2   age                5110 non-null   int64  \n",
      " 3   hypertension       5110 non-null   int64  \n",
      " 4   heart_disease      5110 non-null   int64  \n",
      " 5   ever_married       5110 non-null   object \n",
      " 6   work_type          5110 non-null   object \n",
      " 7   Residence_type     5110 non-null   object \n",
      " 8   avg_glucose_level  5110 non-null   float64\n",
      " 9   bmi                5110 non-null   object \n",
      " 10  smoking_status     5110 non-null   object \n",
      " 11  stroke             5110 non-null   int64  \n",
      "dtypes: float64(1), int64(5), object(6)\n",
      "memory usage: 479.2+ KB\n"
     ]
    }
   ],
   "source": [
    "strokeDf.info()"
   ]
  },
  {
   "cell_type": "markdown",
   "metadata": {},
   "source": [
    "Cada fila es una persona dada la situación médica, se le nombrará paciente. Se mencionan datos demográficos y sobre su estado de salud tanto en variables categóricas como numericas. La columna \"stroke\" indica si la el paciente tuvu un accidente cerebrovascular"
   ]
  },
  {
   "cell_type": "code",
   "execution_count": 24,
   "metadata": {},
   "outputs": [
    {
     "name": "stderr",
     "output_type": "stream",
     "text": [
      "Summarize dataset: 100%|██████████| 34/34 [00:09<00:00,  3.71it/s, Completed]\n",
      "Generate report structure: 100%|██████████| 1/1 [00:04<00:00,  4.34s/it]\n",
      "Render HTML: 100%|██████████| 1/1 [00:01<00:00,  1.12s/it]\n",
      "Export report to file: 100%|██████████| 1/1 [00:00<00:00, 167.18it/s]\n"
     ]
    }
   ],
   "source": [
    "profile = ProfileReport(strokeDf, title=\"Stroke EDA Report\", explorative=True)\n",
    "profile.to_file(output_file=\"Raw_StrokeData_Report.html\")"
   ]
  },
  {
   "cell_type": "markdown",
   "metadata": {},
   "source": [
    "Para explorar un poco más rápido la data se utilizó la librería de Explorative Data Analysis que permite acelerar el entendimiento de las variables que se tienen en nuestro dataset. El reporte se encuentra en [Raw_StrokeData_Report.html](https://github.com/ArmandoDLaRosa/10k-Datathon/blob/main/Raw_StrokeData_Report.html)"
   ]
  },
  {
   "cell_type": "code",
   "execution_count": 78,
   "metadata": {},
   "outputs": [
    {
     "name": "stdout",
     "output_type": "stream",
     "text": [
      "Cantidad Filas Totales  5110 \n",
      "Cantidad Filas Únicas   5110\n"
     ]
    }
   ],
   "source": [
    "# En el Pandas profiling se encontró que se tenía id como campo único,\n",
    "# pero queríamos ver que tantas filas únicas eran únicas, para considear\n",
    "# a un id como una persona distinta.\n",
    "strokeTmp = strokeDf\n",
    "print(\"Cantidad Filas Totales \",strokeDf.shape[0], \"\\nCantidad Filas Únicas  \", strokeTmp.drop_duplicates().shape[0])"
   ]
  },
  {
   "cell_type": "code",
   "execution_count": 51,
   "metadata": {},
   "outputs": [
    {
     "data": {
      "text/html": [
       "<div>\n",
       "<style scoped>\n",
       "    .dataframe tbody tr th:only-of-type {\n",
       "        vertical-align: middle;\n",
       "    }\n",
       "\n",
       "    .dataframe tbody tr th {\n",
       "        vertical-align: top;\n",
       "    }\n",
       "\n",
       "    .dataframe thead th {\n",
       "        text-align: right;\n",
       "    }\n",
       "</style>\n",
       "<table border=\"1\" class=\"dataframe\">\n",
       "  <thead>\n",
       "    <tr style=\"text-align: right;\">\n",
       "      <th></th>\n",
       "      <th>babies_Percent</th>\n",
       "    </tr>\n",
       "  </thead>\n",
       "  <tbody>\n",
       "    <tr>\n",
       "      <th>0</th>\n",
       "      <td>0.841487</td>\n",
       "    </tr>\n",
       "  </tbody>\n",
       "</table>\n",
       "</div>"
      ],
      "text/plain": [
       "   babies_Percent\n",
       "0        0.841487"
      ]
     },
     "metadata": {},
     "output_type": "display_data"
    }
   ],
   "source": [
    "# En el pandas profiling se encontraron datos aludiendo a personas de 0 años, \n",
    "# así que fuimos a investigar si eran una muestra representativa. Pero, solo\n",
    "# se encontraron que eran un 0.84% del total de datos\n",
    "pysqldf = lambda q: sqldf(q, globals())\n",
    "\n",
    "query = \"\"\"SELECT (count(*)*100/5110.0) as babies_Percent\n",
    "       FROM strokeDf\n",
    "       WHERE age < 1\"\"\"\n",
    "display(pysqldf(query))"
   ]
  },
  {
   "cell_type": "code",
   "execution_count": 100,
   "metadata": {},
   "outputs": [
    {
     "data": {
      "text/html": [
       "<div>\n",
       "<style scoped>\n",
       "    .dataframe tbody tr th:only-of-type {\n",
       "        vertical-align: middle;\n",
       "    }\n",
       "\n",
       "    .dataframe tbody tr th {\n",
       "        vertical-align: top;\n",
       "    }\n",
       "\n",
       "    .dataframe thead th {\n",
       "        text-align: right;\n",
       "    }\n",
       "</style>\n",
       "<table border=\"1\" class=\"dataframe\">\n",
       "  <thead>\n",
       "    <tr style=\"text-align: right;\">\n",
       "      <th></th>\n",
       "      <th>Kids_MaxAge</th>\n",
       "    </tr>\n",
       "  </thead>\n",
       "  <tbody>\n",
       "    <tr>\n",
       "      <th>0</th>\n",
       "      <td>16</td>\n",
       "    </tr>\n",
       "  </tbody>\n",
       "</table>\n",
       "</div>"
      ],
      "text/plain": [
       "   Kids_MaxAge\n",
       "0           16"
      ]
     },
     "metadata": {},
     "output_type": "display_data"
    },
    {
     "data": {
      "text/html": [
       "<div>\n",
       "<style scoped>\n",
       "    .dataframe tbody tr th:only-of-type {\n",
       "        vertical-align: middle;\n",
       "    }\n",
       "\n",
       "    .dataframe tbody tr th {\n",
       "        vertical-align: top;\n",
       "    }\n",
       "\n",
       "    .dataframe thead th {\n",
       "        text-align: right;\n",
       "    }\n",
       "</style>\n",
       "<table border=\"1\" class=\"dataframe\">\n",
       "  <thead>\n",
       "    <tr style=\"text-align: right;\">\n",
       "      <th></th>\n",
       "      <th>YouthAge</th>\n",
       "    </tr>\n",
       "  </thead>\n",
       "  <tbody>\n",
       "    <tr>\n",
       "      <th>0</th>\n",
       "      <td>11</td>\n",
       "    </tr>\n",
       "    <tr>\n",
       "      <th>1</th>\n",
       "      <td>12</td>\n",
       "    </tr>\n",
       "    <tr>\n",
       "      <th>2</th>\n",
       "      <td>13</td>\n",
       "    </tr>\n",
       "    <tr>\n",
       "      <th>3</th>\n",
       "      <td>14</td>\n",
       "    </tr>\n",
       "    <tr>\n",
       "      <th>4</th>\n",
       "      <td>15</td>\n",
       "    </tr>\n",
       "    <tr>\n",
       "      <th>5</th>\n",
       "      <td>16</td>\n",
       "    </tr>\n",
       "    <tr>\n",
       "      <th>6</th>\n",
       "      <td>17</td>\n",
       "    </tr>\n",
       "    <tr>\n",
       "      <th>7</th>\n",
       "      <td>18</td>\n",
       "    </tr>\n",
       "    <tr>\n",
       "      <th>8</th>\n",
       "      <td>19</td>\n",
       "    </tr>\n",
       "    <tr>\n",
       "      <th>9</th>\n",
       "      <td>20</td>\n",
       "    </tr>\n",
       "  </tbody>\n",
       "</table>\n",
       "</div>"
      ],
      "text/plain": [
       "   YouthAge\n",
       "0        11\n",
       "1        12\n",
       "2        13\n",
       "3        14\n",
       "4        15\n",
       "5        16\n",
       "6        17\n",
       "7        18\n",
       "8        19\n",
       "9        20"
      ]
     },
     "metadata": {},
     "output_type": "display_data"
    },
    {
     "data": {
      "text/html": [
       "<div>\n",
       "<style scoped>\n",
       "    .dataframe tbody tr th:only-of-type {\n",
       "        vertical-align: middle;\n",
       "    }\n",
       "\n",
       "    .dataframe tbody tr th {\n",
       "        vertical-align: top;\n",
       "    }\n",
       "\n",
       "    .dataframe thead th {\n",
       "        text-align: right;\n",
       "    }\n",
       "</style>\n",
       "<table border=\"1\" class=\"dataframe\">\n",
       "  <thead>\n",
       "    <tr style=\"text-align: right;\">\n",
       "      <th></th>\n",
       "      <th>age</th>\n",
       "      <th>work_type</th>\n",
       "    </tr>\n",
       "  </thead>\n",
       "  <tbody>\n",
       "    <tr>\n",
       "      <th>0</th>\n",
       "      <td>20</td>\n",
       "      <td>Private</td>\n",
       "    </tr>\n",
       "    <tr>\n",
       "      <th>1</th>\n",
       "      <td>17</td>\n",
       "      <td>Self-employed</td>\n",
       "    </tr>\n",
       "    <tr>\n",
       "      <th>2</th>\n",
       "      <td>18</td>\n",
       "      <td>Private</td>\n",
       "    </tr>\n",
       "    <tr>\n",
       "      <th>3</th>\n",
       "      <td>17</td>\n",
       "      <td>Private</td>\n",
       "    </tr>\n",
       "    <tr>\n",
       "      <th>4</th>\n",
       "      <td>20</td>\n",
       "      <td>Govt_job</td>\n",
       "    </tr>\n",
       "    <tr>\n",
       "      <th>5</th>\n",
       "      <td>18</td>\n",
       "      <td>Self-employed</td>\n",
       "    </tr>\n",
       "    <tr>\n",
       "      <th>6</th>\n",
       "      <td>19</td>\n",
       "      <td>Private</td>\n",
       "    </tr>\n",
       "    <tr>\n",
       "      <th>7</th>\n",
       "      <td>19</td>\n",
       "      <td>Self-employed</td>\n",
       "    </tr>\n",
       "    <tr>\n",
       "      <th>8</th>\n",
       "      <td>19</td>\n",
       "      <td>Never_worked</td>\n",
       "    </tr>\n",
       "    <tr>\n",
       "      <th>9</th>\n",
       "      <td>17</td>\n",
       "      <td>Never_worked</td>\n",
       "    </tr>\n",
       "    <tr>\n",
       "      <th>10</th>\n",
       "      <td>17</td>\n",
       "      <td>Govt_job</td>\n",
       "    </tr>\n",
       "    <tr>\n",
       "      <th>11</th>\n",
       "      <td>19</td>\n",
       "      <td>Govt_job</td>\n",
       "    </tr>\n",
       "    <tr>\n",
       "      <th>12</th>\n",
       "      <td>18</td>\n",
       "      <td>Govt_job</td>\n",
       "    </tr>\n",
       "    <tr>\n",
       "      <th>13</th>\n",
       "      <td>18</td>\n",
       "      <td>Never_worked</td>\n",
       "    </tr>\n",
       "  </tbody>\n",
       "</table>\n",
       "</div>"
      ],
      "text/plain": [
       "    age      work_type\n",
       "0    20        Private\n",
       "1    17  Self-employed\n",
       "2    18        Private\n",
       "3    17        Private\n",
       "4    20       Govt_job\n",
       "5    18  Self-employed\n",
       "6    19        Private\n",
       "7    19  Self-employed\n",
       "8    19   Never_worked\n",
       "9    17   Never_worked\n",
       "10   17       Govt_job\n",
       "11   19       Govt_job\n",
       "12   18       Govt_job\n",
       "13   18   Never_worked"
      ]
     },
     "metadata": {},
     "output_type": "display_data"
    }
   ],
   "source": [
    "# Sale la duda de hasta que edad consideran que es un niño en el dataset\n",
    "query1 = \"\"\"   SELECT max(age) as Kids_MaxAge\n",
    "              FROM strokeDf\n",
    "              WHERE work_type = 'children'\"\"\"\n",
    "\n",
    "query2 = \"\"\"   SELECT age as YouthAge\n",
    "              FROM strokeDf\n",
    "              WHERE age > 10 and age < 21\n",
    "              GROUP BY age \"\"\" \n",
    "                      \n",
    "query3 = \"\"\"  SELECT distinct age, work_type\n",
    "              FROM strokeDf\n",
    "              WHERE age > 16 and age < 21\"\"\"        \n",
    "\n",
    "display(pysqldf(query1))\n",
    "display(pysqldf(query2))\n",
    "display(pysqldf(query3))\n",
    "\n"
   ]
  },
  {
   "cell_type": "markdown",
   "metadata": {},
   "source": [
    "## Objetivo\n",
    "Que queremos saber de los datos"
   ]
  },
  {
   "cell_type": "code",
   "execution_count": null,
   "metadata": {},
   "outputs": [],
   "source": []
  },
  {
   "cell_type": "markdown",
   "metadata": {},
   "source": [
    "## Selección\n",
    "¿Están limpios los datos?, ¿cuáles son relevantes?, ¿Cómo preparamos los datos?"
   ]
  },
  {
   "cell_type": "code",
   "execution_count": null,
   "metadata": {},
   "outputs": [],
   "source": []
  },
  {
   "cell_type": "markdown",
   "metadata": {},
   "source": [
    "## Exploración\n",
    "Grafica variables vs otras. Dos graficas por integrante de equipo junto una explicación sobre las observaciones.\n",
    "\n",
    "Usa Watson, Tableau, Power BI para explorar relaciones entre datos y reporta lo que encontraste."
   ]
  },
  {
   "cell_type": "code",
   "execution_count": null,
   "metadata": {},
   "outputs": [],
   "source": [
    "# Correlacion \n",
    "# Dispersión"
   ]
  },
  {
   "cell_type": "markdown",
   "metadata": {},
   "source": [
    "# Etapa 2: Análisis estadístico\n",
    "# @Jesus, Adrian"
   ]
  },
  {
   "cell_type": "markdown",
   "metadata": {},
   "source": [
    "* Histograma\n",
    "* Media\n",
    "* Varianza\n",
    "* Desviación estándar\n",
    "* Simetría\n",
    "* Curtosis \n",
    "\n",
    "Interpretación de los estadísticos descriptivos sobre dichas variables, ofrece una explicación sobre la varianza, media, desviación estandar.\n",
    "Estas son hipotesis sobre los datos. Recuerda redactar esto precisamente como hipotesis, y basarte en los números que obtuviste en el análisis. Por ultimo, para cada una de las variables incluye también tu inferencia sobre que distribución de probabilidad y explica el comportamiento de la variable.\n",
    "\n",
    "Basandonos en la forma del histograma, pesamos que esta variable podría tener una distribución nomal de la información y se encuentra cesgado hacia la derecha por lo que podriamos asumir que la variable tiene una mayor cantidad de información en este rango de numeros."
   ]
  },
  {
   "cell_type": "markdown",
   "metadata": {},
   "source": [
    "# Etapa 3: Modelación"
   ]
  },
  {
   "cell_type": "markdown",
   "metadata": {},
   "source": [
    "## Modela los datos con alguna tecnica.\n",
    "* Teoría de Colas\n",
    "* Leyes operativas\n",
    "* K-Medias\n",
    "* Redes neuronales\n",
    "* Redes neuronales profundas\n",
    "* Redes bayesianas\n",
    "* Árboles de decisión \n",
    "* Bosques Aleatorios\n",
    "* PCAs\n",
    "* Algoritmos genéticos\n",
    "* SVM\n",
    "* Regresión\n",
    "\n",
    "### Se utilizaran\n",
    "- PCAs  @Jesus\n",
    "- K-Medias @Angel\n",
    "- Árboles de decisión @Armando, Shap, Pipeline\n",
    "- Regresión logistica binaria @Adrian\n",
    "- (Quiza Redes Neuronales) @ Todos\n",
    "\n",
    "Reporta la tecnica, el modelo, sus ajustes y tus resultados.\n",
    "\n",
    "Pro-tip: usa dos o más métodos para agrupar o predecir y comparalos para un mejor análisis."
   ]
  },
  {
   "cell_type": "markdown",
   "metadata": {},
   "source": [
    "# Etapa 4: Conclusiones"
   ]
  },
  {
   "cell_type": "markdown",
   "metadata": {},
   "source": [
    "Presenta una lista de insights relevantes de acuerdo al objetivo (problema) que declaraste al principio de este documento, fundamentada en las observaciones, modelado y resultados de la simulación.\n",
    "Un insight es encontrar una relación entre los datos que no es obvia, que puede ayudar al cliente a resolver problemas o a mejorar algun aspecto de su negocio (moneratio, inventario, producción…etc.)."
   ]
  }
 ],
 "metadata": {
  "interpreter": {
   "hash": "31f617c3ac68e1fc7ecf328590ac7439ffc0fa664a22a8c681ee9d7581d4e89b"
  },
  "kernelspec": {
   "display_name": "Python 3.8.8 64-bit ('base': conda)",
   "language": "python",
   "name": "python3"
  },
  "language_info": {
   "codemirror_mode": {
    "name": "ipython",
    "version": 3
   },
   "file_extension": ".py",
   "mimetype": "text/x-python",
   "name": "python",
   "nbconvert_exporter": "python",
   "pygments_lexer": "ipython3",
   "version": "3.8.8"
  },
  "orig_nbformat": 4
 },
 "nbformat": 4,
 "nbformat_minor": 2
}
